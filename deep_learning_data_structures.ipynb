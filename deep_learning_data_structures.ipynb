{
 "cells": [
  {
   "cell_type": "markdown",
   "metadata": {},
   "source": [
    "## Overview\n",
    "\n",
    "I recently completed the [Udacity Deep Learning Nanodegree](https://www.udacity.com/course/deep-learning-nanodegree--nd101) which focuses on implementing a variety of deep learning architectures using [PyTorch](https://pytorch.org/). At the outset it's pretty fundamental to understand the data structures you'll be encountering as inputs and outputs - this tutorial aims to cover all those basics, but <i>does</i> assume a good level of prior Python knowledge and a smattering of linear algebra. I hope it may help you to get up and running quickly!"
   ]
  },
  {
   "cell_type": "markdown",
   "metadata": {},
   "source": [
    "## First things first... structures in Python and Numpy\n",
    "Just a quick reminder: these are the 4 types of structures we'll be encountering:\n",
    "<img src='data_structures.png' width='80%' /><p>\n",
    "Let's take a look how these work in Numpy which you should be more accustomed to, (and then we'll move onto PyTorch, as well as how to go back and forth between these two worlds)."
   ]
  },
  {
   "cell_type": "code",
   "execution_count": 1,
   "metadata": {},
   "outputs": [],
   "source": [
    "import numpy as np"
   ]
  },
  {
   "cell_type": "markdown",
   "metadata": {},
   "source": [
    "### Scalars\n",
    "Scalars have 0 dimensions and are essentially just single numbers:<p>\n",
    "    <b>1, 3.4, 19, etc.</b>"
   ]
  },
  {
   "cell_type": "code",
   "execution_count": 2,
   "metadata": {},
   "outputs": [
    {
     "name": "stdout",
     "output_type": "stream",
     "text": [
      "Output:  5\n",
      "Shape:  ()\n",
      "Type:  <class 'numpy.ndarray'>\n"
     ]
    }
   ],
   "source": [
    "# If you want to create a NumPy array that holds a scalar\n",
    "# pass the value to NumPy's array function, like so:\n",
    "s = np.array(5)\n",
    "print('Output: ', s)\n",
    "print('Shape: ', s.shape)\n",
    "print('Type: ', type(s))\n",
    "# Notice how the shape has 0 dimensions!"
   ]
  },
  {
   "cell_type": "code",
   "execution_count": 3,
   "metadata": {},
   "outputs": [
    {
     "name": "stdout",
     "output_type": "stream",
     "text": [
      "Output:  8\n",
      "Shape:  ()\n",
      "Type:  <class 'numpy.int64'>\n"
     ]
    }
   ],
   "source": [
    "# Even though scalars are inside arrays, you can still use them like a normal scalar or single number. So you could \n",
    "# quite feasibly add a scalar and an integer - but notice the output is an integer, and no longer an array:\n",
    "x = s + 3\n",
    "print('Output: ', x)\n",
    "print('Shape: ', x.shape)\n",
    "print('Type: ', type(x))\n",
    "# It's important to always be aware of input types and resulting output types!"
   ]
  },
  {
   "cell_type": "markdown",
   "metadata": {},
   "source": [
    "### Vectors\n",
    "Vectors have 1 dimension and are essentially lists of numbers:<p>\n",
    "Row vector (aka 1 x 3 matrix):<br>\n",
    "    <b>1 2 3</b><p>\n",
    "Column vector (aka 3 x 1 matrix):<br>\n",
    "    <b>1<br>\n",
    "    2<br>\n",
    "    3</b><br>"
   ]
  },
  {
   "cell_type": "code",
   "execution_count": 4,
   "metadata": {},
   "outputs": [
    {
     "name": "stdout",
     "output_type": "stream",
     "text": [
      "Output:  [1 2 3]\n",
      "Shape:  (3,)\n",
      "Type:  <class 'numpy.ndarray'>\n"
     ]
    }
   ],
   "source": [
    "# To create a vector, you'd pass a Python list to the array function, like this:\n",
    "v = np.array([1,2,3])\n",
    "print('Output: ', v)\n",
    "print('Shape: ', v.shape)\n",
    "print('Type: ', type(v))"
   ]
  },
  {
   "cell_type": "code",
   "execution_count": 5,
   "metadata": {},
   "outputs": [
    {
     "name": "stdout",
     "output_type": "stream",
     "text": [
      "2\n"
     ]
    }
   ],
   "source": [
    "# You can access an element within the vector using indices, like this:\n",
    "x = v[1]\n",
    "print(x)"
   ]
  },
  {
   "cell_type": "code",
   "execution_count": 6,
   "metadata": {},
   "outputs": [
    {
     "name": "stdout",
     "output_type": "stream",
     "text": [
      "[2 3]\n",
      "3\n"
     ]
    }
   ],
   "source": [
    "# NumPy also supports slicing, negative indexation, etc. just like you'd expect it to:\n",
    "print(v[1:])\n",
    "print(v[-1])"
   ]
  },
  {
   "cell_type": "markdown",
   "metadata": {},
   "source": [
    "### Matrices\n",
    "Matrices have 2 dimensions and essentially form a grid of values:<p>\n",
    "    <b>1 2 3<br>\n",
    "       4 5 6<br>\n",
    "       7 8 9</b>\n"
   ]
  },
  {
   "cell_type": "code",
   "execution_count": 7,
   "metadata": {},
   "outputs": [
    {
     "name": "stdout",
     "output_type": "stream",
     "text": [
      "Output: \n",
      " [[1 2 3]\n",
      " [4 5 6]\n",
      " [7 8 9]]\n",
      "Shape:  (3, 3)\n",
      "Type:  <class 'numpy.ndarray'>\n"
     ]
    }
   ],
   "source": [
    "# You create matrices using NumPy's array function, just as you did for vectors. \n",
    "# However, instead of just passing in a list, you need to supply a list of lists, \n",
    "# where each list represents a *row*:\n",
    "m = np.array([[1,2,3], [4,5,6], [7,8,9]])\n",
    "print('Output: \\n', m)\n",
    "print('Shape: ', m.shape)\n",
    "print('Type: ', type(m))"
   ]
  },
  {
   "cell_type": "code",
   "execution_count": 8,
   "metadata": {},
   "outputs": [
    {
     "data": {
      "text/plain": [
       "6"
      ]
     },
     "execution_count": 8,
     "metadata": {},
     "output_type": "execute_result"
    }
   ],
   "source": [
    "# Access elements via their indices - note unlike Excel (yes I DO still use Excel!), indices go [row][column]\n",
    "m[1][2]"
   ]
  },
  {
   "cell_type": "markdown",
   "metadata": {},
   "source": [
    "### Tensors\n",
    "Tensors can have n dimensions, so they'll often get harder to visualize mentally! A typical example might be a tensor for an image which will have a grid of pixels by 3 RGB color channels."
   ]
  },
  {
   "cell_type": "code",
   "execution_count": 9,
   "metadata": {},
   "outputs": [
    {
     "name": "stdout",
     "output_type": "stream",
     "text": [
      "Output: \n",
      " [[[[ 1]\n",
      "   [ 2]]\n",
      "\n",
      "  [[ 3]\n",
      "   [ 4]]\n",
      "\n",
      "  [[ 5]\n",
      "   [ 6]]]\n",
      "\n",
      "\n",
      " [[[ 7]\n",
      "   [ 8]]\n",
      "\n",
      "  [[ 9]\n",
      "   [10]]\n",
      "\n",
      "  [[11]\n",
      "   [12]]]\n",
      "\n",
      "\n",
      " [[[13]\n",
      "   [14]]\n",
      "\n",
      "  [[15]\n",
      "   [16]]\n",
      "\n",
      "  [[17]\n",
      "   [17]]]]\n",
      "Shape:  (3, 3, 2, 1)\n",
      "Type:  <class 'numpy.ndarray'>\n"
     ]
    }
   ],
   "source": [
    "# To create a 3x3x2x1 tensor, you could do the following:\n",
    "t = np.array([[[[1],[2]],[[3],[4]],[[5],[6]]],[[[7],[8]],\\\n",
    "    [[9],[10]],[[11],[12]]],[[[13],[14]],[[15],[16]],[[17],[17]]]])\n",
    "print('Output: \\n', t)\n",
    "print('Shape: ', t.shape)\n",
    "print('Type: ', type(t))"
   ]
  },
  {
   "cell_type": "markdown",
   "metadata": {},
   "source": [
    "Note that you read the shape from the outside in: so this tensor has 3 outer groupings, each of which has 3 groupings itself, each of which contains a group of 2 items, each of which is made up of 1 item.<p>\n",
    "<img src='tensor_shape_2.png' width='30%' /><p>"
   ]
  },
  {
   "cell_type": "code",
   "execution_count": 10,
   "metadata": {},
   "outputs": [
    {
     "data": {
      "text/plain": [
       "16"
      ]
     },
     "execution_count": 10,
     "metadata": {},
     "output_type": "execute_result"
    }
   ],
   "source": [
    "# You can access items just like with matrices, but with more indices - read from the outside in as described above\n",
    "t[2][1][1][0]"
   ]
  },
  {
   "cell_type": "markdown",
   "metadata": {},
   "source": [
    "### Changing shapes\n",
    "Sometimes you'll need to change the shape of your data without actually changing its contents. For example, you may have a vector, which is one-dimensional, but need a matrix, which is two-dimensional."
   ]
  },
  {
   "cell_type": "code",
   "execution_count": 11,
   "metadata": {},
   "outputs": [
    {
     "name": "stdout",
     "output_type": "stream",
     "text": [
      "Output: \n",
      " [1 2 3 4]\n",
      "Shape:  (4,)\n",
      "Type:  <class 'numpy.ndarray'>\n"
     ]
    }
   ],
   "source": [
    "# Let's take a row vector\n",
    "v = np.array([1,2,3,4])\n",
    "print('Output: \\n', v)\n",
    "print('Shape: ', v.shape)\n",
    "print('Type: ', type(v))"
   ]
  },
  {
   "cell_type": "code",
   "execution_count": 12,
   "metadata": {},
   "outputs": [
    {
     "name": "stdout",
     "output_type": "stream",
     "text": [
      "Output: \n",
      " [[1 2 3 4]]\n",
      "Shape:  (1, 4)\n",
      "Type:  <class 'numpy.ndarray'>\n"
     ]
    }
   ],
   "source": [
    "# You can transform this to a 1 x 4 matrix\n",
    "x = v.reshape(1,4)\n",
    "print('Output: \\n', x)\n",
    "print('Shape: ', x.shape)\n",
    "print('Type: ', type(x))"
   ]
  },
  {
   "cell_type": "code",
   "execution_count": 13,
   "metadata": {},
   "outputs": [
    {
     "name": "stdout",
     "output_type": "stream",
     "text": [
      "Output: \n",
      " [[1]\n",
      " [2]\n",
      " [3]\n",
      " [4]]\n",
      "Shape:  (4, 1)\n",
      "Type:  <class 'numpy.ndarray'>\n"
     ]
    }
   ],
   "source": [
    "# Or even to a 4 x 1 matrix!\n",
    "x = v.reshape(4,1)\n",
    "print('Output: \\n', x)\n",
    "print('Shape: ', x.shape)\n",
    "print('Type: ', type(x))"
   ]
  },
  {
   "cell_type": "code",
   "execution_count": 14,
   "metadata": {},
   "outputs": [
    {
     "name": "stdout",
     "output_type": "stream",
     "text": [
      "Output: \n",
      " [[1 2 3 4]]\n",
      "Shape:  (1, 4)\n",
      "Type:  <class 'numpy.ndarray'>\n",
      "Output: \n",
      " [[1]\n",
      " [2]\n",
      " [3]\n",
      " [4]]\n",
      "Shape:  (4, 1)\n",
      "Type:  <class 'numpy.ndarray'>\n"
     ]
    }
   ],
   "source": [
    "# Instead of reshape you may see variants like this:\n",
    "x = v[None, :]\n",
    "print('Output: \\n', x)\n",
    "print('Shape: ', x.shape)\n",
    "print('Type: ', type(x))\n",
    "x = v[:, None]\n",
    "print('Output: \\n', x)\n",
    "print('Shape: ', x.shape)\n",
    "print('Type: ', type(x))\n",
    "# For clarity I must say I prefer np.reshape()!"
   ]
  },
  {
   "cell_type": "markdown",
   "metadata": {},
   "source": [
    "### Creating empty structures\n",
    "You may sometimes want to create an 'empty' array of the right shape, ready to feed data into - this is quite easy to do with np.zeros(). You'll usually populate it with data later on by referring to each location by its index - so again it will be important to have a clear picture of what each level represents:"
   ]
  },
  {
   "cell_type": "code",
   "execution_count": 15,
   "metadata": {},
   "outputs": [
    {
     "data": {
      "text/plain": [
       "array([[0., 0., 0., 0.],\n",
       "       [0., 0., 0., 0.],\n",
       "       [0., 0., 0., 0.]])"
      ]
     },
     "execution_count": 15,
     "metadata": {},
     "output_type": "execute_result"
    }
   ],
   "source": [
    "empty_matrix = np.zeros(shape = (3, 4))\n",
    "empty_matrix"
   ]
  },
  {
   "cell_type": "code",
   "execution_count": 16,
   "metadata": {},
   "outputs": [
    {
     "data": {
      "text/plain": [
       "array([[[0., 0.],\n",
       "        [0., 0.],\n",
       "        [0., 0.],\n",
       "        [0., 0.]],\n",
       "\n",
       "       [[0., 0.],\n",
       "        [0., 0.],\n",
       "        [0., 0.],\n",
       "        [0., 0.]],\n",
       "\n",
       "       [[0., 0.],\n",
       "        [0., 0.],\n",
       "        [0., 0.],\n",
       "        [0., 0.]]])"
      ]
     },
     "execution_count": 16,
     "metadata": {},
     "output_type": "execute_result"
    }
   ],
   "source": [
    "empty_tensor = np.zeros(shape = (3, 4, 2))\n",
    "empty_tensor"
   ]
  },
  {
   "cell_type": "markdown",
   "metadata": {},
   "source": [
    "### In the real world... some practical examples"
   ]
  },
  {
   "cell_type": "markdown",
   "metadata": {},
   "source": [
    "#### Natural language processing - vectors of words\n",
    "When working with words, we'll typically be dealing with vectors, for example, if we have the following sentence:<p>\n",
    "&nbsp;&nbsp;&nbsp;&nbsp;<i>I went on a wonderful holiday with a friend to see the sea and I had a marvellous time</i><p>\n",
    "We might convert it into a sequence of numbers, and then represent the words in the sentence as follows:<p>\n",
    "&nbsp;&nbsp;&nbsp;&nbsp;<i>[0, 2, 3, 1, 4, 5, 6, 7, 8, 9, 10, 0, 11, 1, 12, 13]</i><p>\n",
    "That process will typically work something like this:"
   ]
  },
  {
   "cell_type": "code",
   "execution_count": 17,
   "metadata": {},
   "outputs": [
    {
     "name": "stdout",
     "output_type": "stream",
     "text": [
      "I went on a wonderful holiday with a friend to see the sea and I had a marvellous time\n"
     ]
    }
   ],
   "source": [
    "# We have a sentence which is just a string of words:\n",
    "my_sentence = 'I went on a wonderful holiday with a friend to see the sea and I had a marvellous time'\n",
    "print(my_sentence)"
   ]
  },
  {
   "cell_type": "code",
   "execution_count": 18,
   "metadata": {},
   "outputs": [
    {
     "name": "stdout",
     "output_type": "stream",
     "text": [
      "['i', 'went', 'on', 'a', 'wonderful', 'holiday', 'with', 'a', 'friend', 'to', 'see', 'the', 'sea', 'and', 'i', 'had', 'a', 'marvellous', 'time']\n"
     ]
    }
   ],
   "source": [
    "# We split those words so each word becomes a separate item in a list:\n",
    "word_list = my_sentence.lower().split(' ')\n",
    "print(word_list)"
   ]
  },
  {
   "cell_type": "code",
   "execution_count": 19,
   "metadata": {},
   "outputs": [
    {
     "data": {
      "text/plain": [
       "{'a': 0,\n",
       " 'i': 1,\n",
       " 'went': 2,\n",
       " 'on': 3,\n",
       " 'wonderful': 4,\n",
       " 'holiday': 5,\n",
       " 'with': 6,\n",
       " 'friend': 7,\n",
       " 'to': 8,\n",
       " 'see': 9,\n",
       " 'the': 10,\n",
       " 'sea': 11,\n",
       " 'and': 12,\n",
       " 'had': 13,\n",
       " 'marvellous': 14,\n",
       " 'time': 15}"
      ]
     },
     "execution_count": 19,
     "metadata": {},
     "output_type": "execute_result"
    }
   ],
   "source": [
    "# We use some method to get all the words in the vocab and turn them into numbers\n",
    "# Here we use Counter to get a list of unique words and then number them based on frequency\n",
    "# Notice how 'a' occurs most frequently so it becomes item 0, \n",
    "# then 'i' occurs next most frequently so it becomes item 1 and so on\n",
    "from collections import Counter\n",
    "counts = Counter(word_list)\n",
    "vocab = sorted(counts, key=counts.get, reverse=True)\n",
    "word2idx = {w: idx for (idx, w) in enumerate(vocab)}\n",
    "word2idx"
   ]
  },
  {
   "cell_type": "code",
   "execution_count": 20,
   "metadata": {},
   "outputs": [
    {
     "name": "stdout",
     "output_type": "stream",
     "text": [
      "Output: \n",
      " [ 1  2  3  0  4  5  6  0  7  8  9 10 11 12  1 13  0 14 15]\n",
      "Shape:  (19,)\n",
      "Type:  <class 'numpy.ndarray'>\n"
     ]
    }
   ],
   "source": [
    "# And then we turn the word list into a vector\n",
    "my_sentence_numeric = np.array([word2idx[word] for word in word_list])\n",
    "print('Output: \\n', my_sentence_numeric)\n",
    "print('Shape: ', my_sentence_numeric.shape)\n",
    "print('Type: ', type(my_sentence_numeric))"
   ]
  },
  {
   "cell_type": "markdown",
   "metadata": {},
   "source": [
    "#### Black & white images - matrices\n",
    "Black and white images will often be represented as matrices - each pixel in the image has a location in terms of height and width (the 2 dimensions of our matrix) but there is only one colour channel: representing shades of grey between pure black and pure white.<p>\n",
    "The MNIST images are the most typical toy examples that you'll come across - here we see a sample '5':\n",
    "<img src='img_5.png' width='10%' /><p>\n",
    "Here's how a typical image import happens:"
   ]
  },
  {
   "cell_type": "code",
   "execution_count": 21,
   "metadata": {},
   "outputs": [],
   "source": [
    "# One way to work with image data is using matplotlib:\n",
    "import os\n",
    "from matplotlib import pyplot as plt\n",
    "%matplotlib inline"
   ]
  },
  {
   "cell_type": "code",
   "execution_count": 22,
   "metadata": {},
   "outputs": [
    {
     "name": "stdout",
     "output_type": "stream",
     "text": [
      "Shape:  (280, 280)\n",
      "Type:  <class 'numpy.ndarray'>\n",
      "Min and max values: 0.003921568859368563 and 1.0\n"
     ]
    }
   ],
   "source": [
    "# We can use the imread() function to import the above 'png' file - \n",
    "# and hey presto! it's just another array of numbers!\n",
    "img_5_plt = plt.imread('img_5.png')\n",
    "print('Shape: ', img_5_plt.shape)\n",
    "print('Type: ', type(img_5_plt))\n",
    "print('Min and max values: {} and {}'.format(img_5_plt.min(), img_5_plt.max()))\n",
    "# Notice that it's an array with 2 dimensions, i.e. a matrix"
   ]
  },
  {
   "cell_type": "code",
   "execution_count": 23,
   "metadata": {},
   "outputs": [
    {
     "data": {
      "text/plain": [
       "<matplotlib.image.AxesImage at 0x10becff60>"
      ]
     },
     "execution_count": 23,
     "metadata": {},
     "output_type": "execute_result"
    },
    {
     "data": {
      "image/png": "[encoded data removed]",
      "text/plain": [
       "<Figure size 432x288 with 1 Axes>"
      ]
     },
     "metadata": {
      "needs_background": "light"
     },
     "output_type": "display_data"
    }
   ],
   "source": [
    "# We can plot our number as follows:\n",
    "plt.imshow(img_5_plt, cmap='binary_r')\n",
    "# Note plt.imshow() assumes an RGB colour channel which is why we need to tell it what colormap to use\n",
    "# for our black and white only scenario (you can try running this cell again without the cmap parameter\n",
    "# to see what I mean!)"
   ]
  },
  {
   "cell_type": "code",
   "execution_count": 24,
   "metadata": {},
   "outputs": [
    {
     "data": {
      "text/plain": [
       "<matplotlib.image.AxesImage at 0x10c050470>"
      ]
     },
     "execution_count": 24,
     "metadata": {},
     "output_type": "execute_result"
    },
    {
     "data": {
      "image/png": "[encoded data removed]",
      "text/plain": [
       "<Figure size 432x288 with 1 Axes>"
      ]
     },
     "metadata": {
      "needs_background": "light"
     },
     "output_type": "display_data"
    }
   ],
   "source": [
    "# Each pixel's location can be expressed by referencing our array - this is easiest seen by \n",
    "# 'drawing a line' across our number, i.e. changing the value of some white pixels to black:\n",
    "img_5_plt[25][50:225] = 0.01\n",
    "plt.imshow(img_5_plt, cmap='binary_r')"
   ]
  },
  {
   "cell_type": "markdown",
   "metadata": {},
   "source": [
    "#### Colour images - tensors representing RGB colour channels\n",
    "Colour images are usually represented as tensors - each pixel in the image has a location in terms of height and width AND the colour channel it belongs to (R, G, and B)<p>\n",
    "Here is a small sea picture from my holiday:\n",
    "<img src='sea_picture.jpg' width='20%' /><p>"
   ]
  },
  {
   "cell_type": "code",
   "execution_count": 25,
   "metadata": {},
   "outputs": [
    {
     "name": "stdout",
     "output_type": "stream",
     "text": [
      "Shape:  (256, 256, 3)\n",
      "Type:  <class 'numpy.ndarray'>\n",
      "Min and max values: 0 and 249\n"
     ]
    }
   ],
   "source": [
    "# Let's read that image in - again just and array, but with more dimensions:\n",
    "image_sea_plt = plt.imread('sea_picture.jpg')\n",
    "print('Shape: ', image_sea_plt.shape)\n",
    "print('Type: ', type(image_sea_plt))\n",
    "print('Min and max values: {} and {}'.format(image_sea_plt.min(), image_sea_plt.max()))\n",
    "# Notice that it's an array with 3 dimensions, i.e. a tensor"
   ]
  },
  {
   "cell_type": "code",
   "execution_count": 26,
   "metadata": {},
   "outputs": [
    {
     "data": {
      "text/plain": [
       "<matplotlib.image.AxesImage at 0x1040e3c18>"
      ]
     },
     "execution_count": 26,
     "metadata": {},
     "output_type": "execute_result"
    },
    {
     "data": {
      "image/png": "[encoded data removed]",
      "text/plain": [
       "<Figure size 432x288 with 1 Axes>"
      ]
     },
     "metadata": {
      "needs_background": "light"
     },
     "output_type": "display_data"
    }
   ],
   "source": [
    "# Because this is a regular RGB image we can plot it with plt.imshow() and no additional parameters:\n",
    "plt.imshow(image_sea_plt)"
   ]
  },
  {
   "cell_type": "code",
   "execution_count": 27,
   "metadata": {},
   "outputs": [
    {
     "data": {
      "text/plain": [
       "2"
      ]
     },
     "execution_count": 27,
     "metadata": {},
     "output_type": "execute_result"
    }
   ],
   "source": [
    "# And we can view the values at a specific point using indexation or slicing as we've come to expect:\n",
    "image_sea_plt[0][0][0]"
   ]
  },
  {
   "cell_type": "code",
   "execution_count": 28,
   "metadata": {},
   "outputs": [
    {
     "name": "stdout",
     "output_type": "stream",
     "text": [
      "Shape:  (256, 256, 3)\n",
      "Type:  <class 'numpy.ndarray'>\n",
      "Min and max values: 0 and 249\n"
     ]
    }
   ],
   "source": [
    "# We could equally well have used OpenCV to read in the image - the results are the same, again an array:\n",
    "import cv2\n",
    "image_sea_cv = cv2.imread('sea_picture.jpg')\n",
    "print('Shape: ', image_sea_cv.shape)\n",
    "print('Type: ', type(image_sea_cv))\n",
    "print('Min and max values: {} and {}'.format(image_sea_cv.min(), image_sea_cv.max()))"
   ]
  },
  {
   "cell_type": "markdown",
   "metadata": {},
   "source": [
    "#### Flattening image arrays - re-shaping in action\n",
    "With deep learning we'll usually 'flatten' a matrix or tensor before doing a forward pass through the network - so we'd want to take a multi-dimensional thing (matrix or tensor), and turn it into a one-dimensional vector like, a bit like this:\n",
    "<img src='flattening.png' width='50%' /><p>"
   ]
  },
  {
   "cell_type": "code",
   "execution_count": 29,
   "metadata": {},
   "outputs": [
    {
     "name": "stdout",
     "output_type": "stream",
     "text": [
      "(280, 280)\n"
     ]
    }
   ],
   "source": [
    "# Let's remind ourselves of the shape of our sample MNIST '5':\n",
    "print(img_5_plt.shape)"
   ]
  },
  {
   "cell_type": "code",
   "execution_count": 30,
   "metadata": {},
   "outputs": [
    {
     "name": "stdout",
     "output_type": "stream",
     "text": [
      "(1, 78400)\n"
     ]
    }
   ],
   "source": [
    "# And now we can flatten it - note the '-1' notation is a nifty way of saying \n",
    "# 'just fit the other dimensions in' so it works out that the vector length is \n",
    "# 78400 in this case (280 x 280)\n",
    "img_5_flattened = img_5_plt.reshape(1,-1)\n",
    "print(img_5_flattened.shape)"
   ]
  },
  {
   "cell_type": "code",
   "execution_count": 31,
   "metadata": {},
   "outputs": [
    {
     "name": "stdout",
     "output_type": "stream",
     "text": [
      "(256, 256, 3)\n"
     ]
    }
   ],
   "source": [
    "# Let's remind ourselves of the shape of my holiday sea picture:\n",
    "print(image_sea_plt.shape)"
   ]
  },
  {
   "cell_type": "code",
   "execution_count": 32,
   "metadata": {},
   "outputs": [
    {
     "name": "stdout",
     "output_type": "stream",
     "text": [
      "(1, 196608)\n"
     ]
    }
   ],
   "source": [
    "# And now we can flatten it - note the '-1' notation is a nifty way of saying \n",
    "# 'just fit the other dimensions in' so it works out that the vector length is \n",
    "# 196608 in this case (256 x 256 x 3)\n",
    "image_sea_flattened = image_sea_plt.reshape(1, -1)\n",
    "print(image_sea_flattened.shape)"
   ]
  },
  {
   "cell_type": "markdown",
   "metadata": {},
   "source": [
    "## Element-wise operations\n",
    "Here's how we perform math functions on matrices (or vectors or tensors)."
   ]
  },
  {
   "cell_type": "code",
   "execution_count": 33,
   "metadata": {},
   "outputs": [
    {
     "data": {
      "text/plain": [
       "array([[1, 2, 3],\n",
       "       [4, 5, 6],\n",
       "       [7, 8, 9]])"
      ]
     },
     "execution_count": 33,
     "metadata": {},
     "output_type": "execute_result"
    }
   ],
   "source": [
    "# Let's setup our initial matrix\n",
    "m = np.array([[1, 2, 3], [4, 5, 6], [7, 8, 9]])\n",
    "m"
   ]
  },
  {
   "cell_type": "code",
   "execution_count": 34,
   "metadata": {},
   "outputs": [
    {
     "data": {
      "text/plain": [
       "array([[ 3,  4,  5],\n",
       "       [ 6,  7,  8],\n",
       "       [ 9, 10, 11]])"
      ]
     },
     "execution_count": 34,
     "metadata": {},
     "output_type": "execute_result"
    }
   ],
   "source": [
    "# Adding a number to the matrix adds that number to each element within the matrix\n",
    "2 + m"
   ]
  },
  {
   "cell_type": "code",
   "execution_count": 35,
   "metadata": {},
   "outputs": [
    {
     "data": {
      "text/plain": [
       "array([[0.5, 1. , 1.5],\n",
       "       [2. , 2.5, 3. ],\n",
       "       [3.5, 4. , 4.5]])"
      ]
     },
     "execution_count": 35,
     "metadata": {},
     "output_type": "execute_result"
    }
   ],
   "source": [
    "# Same with dividing by a number\n",
    "m/2"
   ]
  },
  {
   "cell_type": "code",
   "execution_count": 36,
   "metadata": {},
   "outputs": [
    {
     "data": {
      "text/plain": [
       "array([[ 2,  4,  6],\n",
       "       [ 8, 10, 12],\n",
       "       [14, 16, 18]])"
      ]
     },
     "execution_count": 36,
     "metadata": {},
     "output_type": "execute_result"
    }
   ],
   "source": [
    "# What about adding 2 matrices? Take each number at the corresponding index and add it, so 1 + 1, 2 + 2, etc.\n",
    "# Because the operations are done index by index the matrices have to be the same shape!\n",
    "m + m"
   ]
  },
  {
   "cell_type": "code",
   "execution_count": 37,
   "metadata": {},
   "outputs": [
    {
     "data": {
      "text/plain": [
       "array([[ 1,  4,  9],\n",
       "       [16, 25, 36],\n",
       "       [49, 64, 81]])"
      ]
     },
     "execution_count": 37,
     "metadata": {},
     "output_type": "execute_result"
    }
   ],
   "source": [
    "# What about multiplying 2 matrices? Same principle applies:\n",
    "m * m"
   ]
  },
  {
   "cell_type": "code",
   "execution_count": 38,
   "metadata": {},
   "outputs": [
    {
     "name": "stdout",
     "output_type": "stream",
     "text": [
      "[[0 0 0]\n",
      " [0 0 0]\n",
      " [0 0 0]]\n"
     ]
    }
   ],
   "source": [
    "# What if you have your matrix already and you want to re-use it by setting the contents to 0? Multiply by 0!\n",
    "m *= 0\n",
    "print(m)"
   ]
  },
  {
   "cell_type": "markdown",
   "metadata": {},
   "source": [
    "## Dot product\n",
    "Let's take the example of 2 vectors:<br>\n",
    "[9, 2, 4, 16] . [1, 7, 13, 0]<p>\n",
    "To find the dot product we'll perform element-wise multiplication and then add the results to produce a single number, i.e. <br>\n",
    "the sum of : 9 x 1, 2 x 7, 4 x 13, 16 x 0 = 75<p>\n",
    "Note we always need 2 vectors of <i>equal length</i>."
   ]
  },
  {
   "cell_type": "code",
   "execution_count": 39,
   "metadata": {},
   "outputs": [
    {
     "data": {
      "text/plain": [
       "75"
      ]
     },
     "execution_count": 39,
     "metadata": {},
     "output_type": "execute_result"
    }
   ],
   "source": [
    "v1 = np.array([9, 2, 4, 16])\n",
    "v2 = np.array([1, 7, 13, 0])\n",
    "v1@v2"
   ]
  },
  {
   "cell_type": "markdown",
   "metadata": {},
   "source": [
    "## Matrix product\n",
    "Take a series of dot products between every <b>ROW</b> in the left matrix and every <b>COLUMN</b> in the right matrix. Note that because we'll be taking the dot product for rows by columns, the number of columns in the first matrix needs to be the same length as the number of rows in the second matrix - in this case 4. Check the shapes of the first and the second: if the inner numbers are the same you can go ahead and multiply!"
   ]
  },
  {
   "cell_type": "code",
   "execution_count": 40,
   "metadata": {},
   "outputs": [
    {
     "name": "stdout",
     "output_type": "stream",
     "text": [
      "Output: \n",
      " [[ 9  2  4 16]\n",
      " [ 8 10 12 14]]\n",
      "Output: \n",
      " [[ 1  3  5]\n",
      " [ 7  9 11]\n",
      " [13 15 17]\n",
      " [ 0 21 23]]\n",
      "Shapes:  (2, 4) (4, 3)\n"
     ]
    }
   ],
   "source": [
    "# Let's setup our matrices and check their shapes\n",
    "m1 = np.array([[9, 2, 4, 16], [8, 10, 12, 14]])\n",
    "m2 = np.array([[1, 3, 5], [7, 9, 11], [13, 15, 17], [0, 21, 23]])\n",
    "print('Output: \\n', m1)\n",
    "print('Output: \\n', m2)\n",
    "print('Shapes: ', m1.shape, m2.shape)"
   ]
  },
  {
   "cell_type": "code",
   "execution_count": 41,
   "metadata": {},
   "outputs": [
    {
     "data": {
      "text/plain": [
       "array([[ 75, 441, 503],\n",
       "       [234, 588, 676]])"
      ]
     },
     "execution_count": 41,
     "metadata": {},
     "output_type": "execute_result"
    }
   ],
   "source": [
    "# And now we do matrix multiplications\n",
    "m1@m2"
   ]
  },
  {
   "cell_type": "code",
   "execution_count": 42,
   "metadata": {},
   "outputs": [
    {
     "data": {
      "text/plain": [
       "(2, 3)"
      ]
     },
     "execution_count": 42,
     "metadata": {},
     "output_type": "execute_result"
    }
   ],
   "source": [
    "checking = m1@m2\n",
    "checking.shape"
   ]
  },
  {
   "cell_type": "code",
   "execution_count": 43,
   "metadata": {},
   "outputs": [
    {
     "name": "stdout",
     "output_type": "stream",
     "text": [
      "[[ 1  3  5]\n",
      " [ 7  9 11]]\n",
      "[[ 0  6]\n",
      " [ 2  8]\n",
      " [ 4 10]]\n",
      "Shapes:  (2, 3) (3, 2)\n"
     ]
    }
   ],
   "source": [
    "# How does shape affect the answer? Scenario 1\n",
    "m1a = np.array([[1, 3, 5], [7, 9, 11]])\n",
    "m1b = np.array([[0, 6], [2, 8], [4, 10]])\n",
    "print(m1a)\n",
    "print(m1b)\n",
    "print('Shapes: ', m1a.shape, m1b.shape)"
   ]
  },
  {
   "cell_type": "code",
   "execution_count": 44,
   "metadata": {},
   "outputs": [
    {
     "name": "stdout",
     "output_type": "stream",
     "text": [
      "[[ 26  80]\n",
      " [ 62 224]]\n",
      "Shape:  (2, 2)\n"
     ]
    }
   ],
   "source": [
    "# Notice how when we multiply them together the resulting answer has\n",
    "# the same number of rows as our first matrix and the same number of \n",
    "# columns as our second matrix\n",
    "answer1 = m1a@m1b\n",
    "print(answer1)\n",
    "print('Shape: ', answer1.shape)"
   ]
  },
  {
   "cell_type": "code",
   "execution_count": 45,
   "metadata": {},
   "outputs": [
    {
     "name": "stdout",
     "output_type": "stream",
     "text": [
      "[[1 7]\n",
      " [3 9]\n",
      " [5 1]]\n",
      "[[ 0  2  4]\n",
      " [ 6  8 10]]\n",
      "Shapes:  (3, 2) (2, 3)\n"
     ]
    }
   ],
   "source": [
    "# How does shape affect the answer? Scenario 2 - essentially the same but shaped differently\n",
    "m2a = np.array([[1, 7], [3, 9], [5, 1]])\n",
    "m2b = np.array([[0, 2, 4], [6, 8, 10]])\n",
    "print(m2a)\n",
    "print(m2b)\n",
    "print('Shapes: ', m2a.shape, m2b.shape)"
   ]
  },
  {
   "cell_type": "code",
   "execution_count": 46,
   "metadata": {},
   "outputs": [
    {
     "name": "stdout",
     "output_type": "stream",
     "text": [
      "[[ 42  58  74]\n",
      " [ 54  78 102]\n",
      " [  6  18  30]]\n",
      "Shape:  (3, 3)\n"
     ]
    }
   ],
   "source": [
    "# Notice how when we multiply them together the resulting answer has\n",
    "# the same number of rows as our first matrix and the same number of \n",
    "# columns as our second matrix\n",
    "answer2 = m2a@m2b\n",
    "print(answer2)\n",
    "print('Shape: ', answer2.shape)"
   ]
  },
  {
   "cell_type": "markdown",
   "metadata": {},
   "source": [
    "So multiplying a 10000 x 300 matrix by another 300 x 600 matrix will give you a 10000 x 6000 matrix.<br>\n",
    "Where multiplying a 300 x 600 matrix by another 300 x 10000 matrix will give you a 6000 x 10000 matrix.<br>\n",
    "So unlike standard multiplication, matrix multiplication is NOT commutative, i.2. A.B != B.A.<br>\n",
    "Data in the left matrix should be arranged as rows, while data in the right matrix should be arranged as columns.<br>\n",
    "<img src='multiplication.png' width='50%' /><p>"
   ]
  },
  {
   "cell_type": "code",
   "execution_count": 47,
   "metadata": {},
   "outputs": [
    {
     "name": "stdout",
     "output_type": "stream",
     "text": [
      "[[ 42  58  74]\n",
      " [ 54  78 102]\n",
      " [  6  18  30]]\n"
     ]
    }
   ],
   "source": [
    "# An alternative method is to use the matmul function\n",
    "answer2 = np.matmul(m2a, m2b)\n",
    "print(answer2)"
   ]
  },
  {
   "cell_type": "code",
   "execution_count": 48,
   "metadata": {},
   "outputs": [
    {
     "name": "stdout",
     "output_type": "stream",
     "text": [
      "[[ 42  58  74]\n",
      " [ 54  78 102]\n",
      " [  6  18  30]]\n"
     ]
    }
   ],
   "source": [
    "# You may also see the dot function but be careful as this is only really good for 2 dimensions\n",
    "answer2 = np.dot(m2a, m2b)\n",
    "print(answer2)"
   ]
  },
  {
   "cell_type": "markdown",
   "metadata": {},
   "source": [
    "## Matrix transpose\n",
    "This is where the values of the <b>ROWS</b> in the original matrix become the values of the <b>COLUMNS</b> in the transposed matrix.<p>\n",
    "This can be useful, e.g. in a situation where you need to perform matrix multiplication but the shapes of your matrices are incompatible. But this is a situation just like you'd have in Excel: if you're storing data in rows or columns it's going to make a difference what you shuffle about!<p>\n",
    "If both of the original matrices store their data as ROWS it's safe to use a transpose<p>"
   ]
  },
  {
   "cell_type": "code",
   "execution_count": 49,
   "metadata": {},
   "outputs": [
    {
     "data": {
      "text/plain": [
       "array([[ 42,  58,  74],\n",
       "       [ 54,  78, 102],\n",
       "       [  6,  18,  30]])"
      ]
     },
     "execution_count": 49,
     "metadata": {},
     "output_type": "execute_result"
    }
   ],
   "source": [
    "# Remember our last matrix? Here it is again:\n",
    "answer2"
   ]
  },
  {
   "cell_type": "code",
   "execution_count": 50,
   "metadata": {},
   "outputs": [
    {
     "data": {
      "text/plain": [
       "array([[ 42,  54,   6],\n",
       "       [ 58,  78,  18],\n",
       "       [ 74, 102,  30]])"
      ]
     },
     "execution_count": 50,
     "metadata": {},
     "output_type": "execute_result"
    }
   ],
   "source": [
    "# Now compare the results once it's transposed - the values from ROW 0 have become the values for COLUMN 0\n",
    "answer2.transpose()"
   ]
  },
  {
   "cell_type": "code",
   "execution_count": 51,
   "metadata": {},
   "outputs": [
    {
     "data": {
      "text/plain": [
       "array([[ 42,  54,   6],\n",
       "       [ 58,  78,  18],\n",
       "       [ 74, 102,  30]])"
      ]
     },
     "execution_count": 51,
     "metadata": {},
     "output_type": "execute_result"
    }
   ],
   "source": [
    "# Practically lots of people use .T because it's so much shorter to type\n",
    "answer2.T"
   ]
  },
  {
   "cell_type": "code",
   "execution_count": 52,
   "metadata": {},
   "outputs": [
    {
     "name": "stdout",
     "output_type": "stream",
     "text": [
      "[[ 42  54   6]\n",
      " [ 58  78  18]\n",
      " [ 74 102 400]]\n",
      "[[ 42  58  74]\n",
      " [ 54  78 102]\n",
      " [  6  18 400]]\n"
     ]
    }
   ],
   "source": [
    "# Be careful because even though you create a 'new' variable from one of these \n",
    "# it still references the original variable - notice how BOTH are updated to 400\n",
    "answer_t = answer2.T\n",
    "answer_t[2][2] = 400\n",
    "print(answer_t)\n",
    "print(answer2)"
   ]
  },
  {
   "cell_type": "markdown",
   "metadata": {},
   "source": [
    "## A transpose use case"
   ]
  },
  {
   "cell_type": "code",
   "execution_count": 53,
   "metadata": {},
   "outputs": [
    {
     "name": "stdout",
     "output_type": "stream",
     "text": [
      "[[-0.27  0.45  0.64  0.31]]\n",
      "Shape:  (1, 4)\n"
     ]
    }
   ],
   "source": [
    "# We have a bunch of inputs, note the shape 1 x 4\n",
    "inputs = np.array([[-0.27,  0.45,  0.64, 0.31]])\n",
    "print(inputs)\n",
    "print('Shape: ', inputs.shape)"
   ]
  },
  {
   "cell_type": "code",
   "execution_count": 54,
   "metadata": {},
   "outputs": [
    {
     "name": "stdout",
     "output_type": "stream",
     "text": [
      "[[ 0.02   0.001 -0.03   0.036]\n",
      " [ 0.04  -0.003  0.025  0.009]\n",
      " [ 0.012 -0.045  0.28  -0.067]]\n",
      "Shape:  (3, 4)\n"
     ]
    }
   ],
   "source": [
    "# And a bunch of weights, note the incompatible shape 3 x 4\n",
    "weights = np.array([[0.02, 0.001, -0.03, 0.036], \\\n",
    "    [0.04, -0.003, 0.025, 0.009], [0.012, -0.045, 0.28, -0.067]])\n",
    "print(weights)\n",
    "print('Shape: ', weights.shape)"
   ]
  },
  {
   "cell_type": "markdown",
   "metadata": {},
   "source": [
    "Remember that to multiply successfully we need the number of <b>ROWS</b> in the first matrix to equal the number of <b>COLUMNS</b> in the second matrix. In this case we need the shape of our second matrix to be (4, 3) and not (3, 4)."
   ]
  },
  {
   "cell_type": "code",
   "execution_count": 55,
   "metadata": {},
   "outputs": [
    {
     "name": "stdout",
     "output_type": "stream",
     "text": [
      "[[-0.01299  0.00664  0.13494]]\n",
      "Shape:  (1, 3)\n"
     ]
    }
   ],
   "source": [
    "# By transposing the weights we can multiply the 2 together\n",
    "updated_values = np.matmul(inputs, weights.T)\n",
    "print(updated_values)\n",
    "print('Shape: ', updated_values.shape)"
   ]
  },
  {
   "cell_type": "code",
   "execution_count": 56,
   "metadata": {},
   "outputs": [
    {
     "name": "stdout",
     "output_type": "stream",
     "text": [
      "[[-0.01299]\n",
      " [ 0.00664]\n",
      " [ 0.13494]]\n",
      "Shape:  (3, 1)\n"
     ]
    }
   ],
   "source": [
    "# Similarly by transposing the inputs we can ALSO multiply the 2 together\n",
    "updated_values2 = np.matmul(weights, inputs.T)\n",
    "print(updated_values2)\n",
    "print('Shape: ', updated_values2.shape)"
   ]
  },
  {
   "cell_type": "code",
   "execution_count": 57,
   "metadata": {},
   "outputs": [],
   "source": [
    "# Notice how the answers are just transposes of each other, so which one you use \n",
    "# really just depends on the shape you want for the output."
   ]
  },
  {
   "cell_type": "markdown",
   "metadata": {},
   "source": [
    "#### Special case with 1D vectors\n",
    "It's possible to get the transpose of an array like so arr.T, but for a 1D array, the transpose will return a row vector. Instead, use arr[:,None] to create a column vector:"
   ]
  },
  {
   "cell_type": "code",
   "execution_count": 58,
   "metadata": {},
   "outputs": [
    {
     "data": {
      "text/plain": [
       "(3,)"
      ]
     },
     "execution_count": 58,
     "metadata": {},
     "output_type": "execute_result"
    }
   ],
   "source": [
    "# Let's create a 1D vector for illustration purposes\n",
    "vec_1d = np.array([3, 6, 9])\n",
    "vec_1d.shape"
   ]
  },
  {
   "cell_type": "code",
   "execution_count": 59,
   "metadata": {},
   "outputs": [
    {
     "name": "stdout",
     "output_type": "stream",
     "text": [
      "[3 6 9]\n",
      "[3 6 9]\n"
     ]
    }
   ],
   "source": [
    "# Notice how transposing it makes no difference!\n",
    "print(vec_1d)\n",
    "print(vec_1d.transpose())"
   ]
  },
  {
   "cell_type": "code",
   "execution_count": 60,
   "metadata": {},
   "outputs": [
    {
     "data": {
      "text/plain": [
       "array([[3],\n",
       "       [6],\n",
       "       [9]])"
      ]
     },
     "execution_count": 60,
     "metadata": {},
     "output_type": "execute_result"
    }
   ],
   "source": [
    "# But this will work nicely, basically saying all of the elements from the vector and None for the second column\n",
    "vec_1d[:,None]"
   ]
  },
  {
   "cell_type": "code",
   "execution_count": 61,
   "metadata": {},
   "outputs": [
    {
     "name": "stdout",
     "output_type": "stream",
     "text": [
      "[[3 6 9]]\n",
      "[[3]\n",
      " [6]\n",
      " [9]]\n"
     ]
    }
   ],
   "source": [
    "# OR create the original 1D vector with TWO dimensions in the first place (quicker than reshaping after):\n",
    "vec_2d = np.array([3, 6, 9], ndmin = 2)\n",
    "print(vec_2d)\n",
    "print(vec_2d.T)"
   ]
  },
  {
   "cell_type": "markdown",
   "metadata": {},
   "source": [
    "### Coding a very simple forward pass\n",
    "A forward pass is just matrix multiplication in action:\n",
    "<img src='weight_matrix_detail_2.png' width='85%' /><p>\n",
    "Notice how the weight matrix has been constructed, where the number of rows is the same as the number of features in x, and the number of columns is the same as the number of hidden nodes in h:<p>"
   ]
  },
  {
   "cell_type": "code",
   "execution_count": 62,
   "metadata": {},
   "outputs": [
    {
     "name": "stdout",
     "output_type": "stream",
     "text": [
      "[[3 6 9]]\n",
      "(1, 3)\n"
     ]
    }
   ],
   "source": [
    "# features is 2D array containing the input data x1, x2, x3\n",
    "features = np.array([3, 6, 9]).reshape(1,3)\n",
    "print(features)\n",
    "print(features.shape)"
   ]
  },
  {
   "cell_type": "code",
   "execution_count": 63,
   "metadata": {},
   "outputs": [
    {
     "name": "stdout",
     "output_type": "stream",
     "text": [
      "1\n",
      "3\n"
     ]
    }
   ],
   "source": [
    "# Number of records and input units\n",
    "n_records, n_inputs = features.shape\n",
    "print(n_records)\n",
    "print(n_inputs)"
   ]
  },
  {
   "cell_type": "code",
   "execution_count": 64,
   "metadata": {},
   "outputs": [
    {
     "name": "stdout",
     "output_type": "stream",
     "text": [
      "[[-0.80314015  0.51174729]\n",
      " [ 0.93638071 -0.1819504 ]\n",
      " [ 0.82375177 -0.07644257]]\n"
     ]
    }
   ],
   "source": [
    "# Set number of hidden units to 2\n",
    "n_hidden = 2\n",
    "# Generate random weights to fit our mini architecture\n",
    "weights_input_to_hidden = np.random.normal(0, n_inputs**-0.5, size=(n_inputs, n_hidden))\n",
    "print(weights_input_to_hidden)"
   ]
  },
  {
   "cell_type": "code",
   "execution_count": 65,
   "metadata": {},
   "outputs": [
    {
     "name": "stdout",
     "output_type": "stream",
     "text": [
      "(1, 3)\n",
      "(3, 2)\n"
     ]
    }
   ],
   "source": [
    "# If we now check the shapes, we are ready to multiply!\n",
    "print(features.shape)\n",
    "print(weights_input_to_hidden.shape)"
   ]
  },
  {
   "cell_type": "code",
   "execution_count": 66,
   "metadata": {},
   "outputs": [
    {
     "name": "stdout",
     "output_type": "stream",
     "text": [
      "[[10.62262974 -0.24444369]]\n",
      "(1, 2)\n"
     ]
    }
   ],
   "source": [
    "# Here we go\n",
    "hidden_inputs = np.dot(features, weights_input_to_hidden)\n",
    "print(hidden_inputs)\n",
    "print(hidden_inputs.shape)"
   ]
  },
  {
   "cell_type": "code",
   "execution_count": 67,
   "metadata": {},
   "outputs": [
    {
     "name": "stdout",
     "output_type": "stream",
     "text": [
      "[[3]\n",
      " [6]\n",
      " [9]]\n",
      "(3, 1)\n"
     ]
    }
   ],
   "source": [
    "# Let's look at the transposed features\n",
    "print(features.transpose())\n",
    "print(features.transpose().shape)"
   ]
  },
  {
   "cell_type": "code",
   "execution_count": 68,
   "metadata": {},
   "outputs": [
    {
     "name": "stdout",
     "output_type": "stream",
     "text": [
      "[[-0.80314015  0.93638071  0.82375177]\n",
      " [ 0.51174729 -0.1819504  -0.07644257]]\n",
      "(2, 3)\n"
     ]
    }
   ],
   "source": [
    "# And the transposed random weights\n",
    "print(weights_input_to_hidden.transpose())\n",
    "print(weights_input_to_hidden.transpose().shape)"
   ]
  },
  {
   "cell_type": "code",
   "execution_count": 69,
   "metadata": {},
   "outputs": [
    {
     "name": "stdout",
     "output_type": "stream",
     "text": [
      "[[10.62262974]\n",
      " [-0.24444369]]\n",
      "(2, 1)\n"
     ]
    }
   ],
   "source": [
    "# So we could also just multiply as follows (note how we have to swap \n",
    "# the weights and the features to line up the shapes:\n",
    "transposed_hidden_inputs = np.dot(weights_input_to_hidden.transpose(), features.transpose())\n",
    "print(transposed_hidden_inputs)\n",
    "print(transposed_hidden_inputs.shape)"
   ]
  },
  {
   "cell_type": "markdown",
   "metadata": {},
   "source": [
    "Clearly, the important thing when setting this up in practice is to know what is represented by the rows versus the columns, what shape the outputs are and what those represent, and so on!"
   ]
  },
  {
   "cell_type": "markdown",
   "metadata": {},
   "source": [
    "## Now let's move on... structures in PyTorch\n",
    "Scalars, vectors, matrices and tensors are all used, but instead of the NumPy array, they are held in the PyTorch tensor."
   ]
  },
  {
   "cell_type": "code",
   "execution_count": 70,
   "metadata": {},
   "outputs": [],
   "source": [
    "import torch"
   ]
  },
  {
   "cell_type": "code",
   "execution_count": 71,
   "metadata": {},
   "outputs": [
    {
     "data": {
      "text/plain": [
       "tensor([[-0.2077, -1.1962, -2.3296,  0.1182, -0.6795]])"
      ]
     },
     "execution_count": 71,
     "metadata": {},
     "output_type": "execute_result"
    }
   ],
   "source": [
    "# Here we are creating a 1 x 5 tensor filled with random values\n",
    "my_tensor_1 = torch.randn((1, 5))\n",
    "my_tensor_1"
   ]
  },
  {
   "cell_type": "code",
   "execution_count": 72,
   "metadata": {},
   "outputs": [
    {
     "data": {
      "text/plain": [
       "tensor([[[[ 0.8850, -0.8992, -1.4532],\n",
       "          [-0.3825,  0.0726, -0.6434]],\n",
       "\n",
       "         [[ 0.2978,  0.6723, -0.7668],\n",
       "          [-0.4401,  0.8991,  0.9226]],\n",
       "\n",
       "         [[-0.2236, -0.7165, -0.2679],\n",
       "          [-1.0320, -0.5938,  0.8750]]],\n",
       "\n",
       "\n",
       "        [[[ 0.9508, -1.9034, -0.5138],\n",
       "          [-1.1421, -1.5693,  1.1334]],\n",
       "\n",
       "         [[-0.0899,  1.3160,  0.5830],\n",
       "          [-0.7927, -1.0147, -1.6163]],\n",
       "\n",
       "         [[ 0.5218,  1.6359,  0.5626],\n",
       "          [-0.8350, -0.6344, -0.4213]]]])"
      ]
     },
     "execution_count": 72,
     "metadata": {},
     "output_type": "execute_result"
    }
   ],
   "source": [
    "# We can create tensors of many dimensions!\n",
    "my_4D_tensor = torch.randn((2, 3, 2, 3))\n",
    "my_4D_tensor"
   ]
  },
  {
   "cell_type": "code",
   "execution_count": 73,
   "metadata": {},
   "outputs": [
    {
     "data": {
      "text/plain": [
       "tensor([[ 1.3532,  0.8760,  0.3802,  0.8343, -0.3119]])"
      ]
     },
     "execution_count": 73,
     "metadata": {},
     "output_type": "execute_result"
    }
   ],
   "source": [
    "# We can also create a second random tensor *with the same shape* as the first...\n",
    "my_tensor_2 = torch.randn_like(my_tensor_1)\n",
    "my_tensor_2"
   ]
  },
  {
   "cell_type": "code",
   "execution_count": 74,
   "metadata": {},
   "outputs": [
    {
     "name": "stdout",
     "output_type": "stream",
     "text": [
      "tensor([[-0.2077],\n",
      "        [-1.1962],\n",
      "        [-2.3296],\n",
      "        [ 0.1182],\n",
      "        [-0.6795]])\n",
      "tensor([[-0.2077],\n",
      "        [-1.1962],\n",
      "        [-2.3296],\n",
      "        [ 0.1182],\n",
      "        [-0.6795]])\n",
      "tensor([[-0.2077],\n",
      "        [-1.1962],\n",
      "        [-2.3296],\n",
      "        [ 0.1182],\n",
      "        [-0.6795]])\n"
     ]
    }
   ],
   "source": [
    "# With matrix multiplication and just working with matrices in general we may need to re-shape, \n",
    "# in fact there are many circumstances where you'll want to do this!\n",
    "\n",
    "# Method 1 - RESHAPE - basically returns a new tensor\n",
    "my_reshape_tensor_1 = my_tensor_1.reshape(5, 1)\n",
    "print(my_reshape_tensor_1)\n",
    "\n",
    "# Method 2 - RESIZE - returns same tensor with a different shape\n",
    "my_reshape_tensor_2 = my_reshape_tensor_1.resize_(5, 1)\n",
    "print(my_reshape_tensor_2)\n",
    "\n",
    "# Method 3 - VIEW - also returns a new tensor, quite frequently seen\n",
    "my_reshape_tensor_3 = my_reshape_tensor_1.view(5, 1)\n",
    "print(my_reshape_tensor_3)"
   ]
  },
  {
   "cell_type": "code",
   "execution_count": 75,
   "metadata": {},
   "outputs": [
    {
     "name": "stdout",
     "output_type": "stream",
     "text": [
      "tensor([[ 0.8118,  0.3068, -0.9181],\n",
      "        [ 0.7558, -0.8581, -1.0108],\n",
      "        [-0.4357, -0.8279, -0.5920],\n",
      "        [ 1.1929, -0.0802, -0.0894]])\n",
      "tensor([[ 0.8118,  0.3068, -0.9181,  0.7558],\n",
      "        [-0.8581, -1.0108, -0.4357, -0.8279],\n",
      "        [-0.5920,  1.1929, -0.0802, -0.0894]])\n",
      "tensor([[ 0.8118,  0.3068, -0.9181,  0.7558, -0.8581, -1.0108, -0.4357, -0.8279,\n",
      "         -0.5920,  1.1929, -0.0802, -0.0894]])\n"
     ]
    }
   ],
   "source": [
    "# Just as we did in NumPy we can use -1 as an indicator to re-shape to the required\n",
    "# remaining number in the shape for everything to 'balance' - check out these variations:\n",
    "my_tensor_3 = torch.randn((4, 3))\n",
    "print(my_tensor_3)\n",
    "print(my_tensor_3.view(3, -1))\n",
    "print(my_tensor_3.view(1, -1))"
   ]
  },
  {
   "cell_type": "code",
   "execution_count": 76,
   "metadata": {},
   "outputs": [
    {
     "data": {
      "text/plain": [
       "tensor([[ 0.8118,  0.3068, -0.9181,  0.7558],\n",
       "        [-0.8581, -1.0108, -0.4357, -0.8279],\n",
       "        [-0.5920,  1.1929, -0.0802, -0.0894]])"
      ]
     },
     "execution_count": 76,
     "metadata": {},
     "output_type": "execute_result"
    }
   ],
   "source": [
    "# We can also re-shape one tensor to be *like the shape of another tensor - just like so:\n",
    "my_tensor_4 = torch.randn(3, 4)\n",
    "my_tensor_3.view(*my_tensor_4.shape)\n",
    "# Obviously the shapes of the from and to tensors have to be compatible so all the values\n",
    "# still 'fit in' as they should"
   ]
  },
  {
   "cell_type": "code",
   "execution_count": 77,
   "metadata": {},
   "outputs": [
    {
     "name": "stdout",
     "output_type": "stream",
     "text": [
      "tensor([[ 0.8118,  0.3068, -0.9181],\n",
      "        [ 0.7558, -0.8581, -1.0108],\n",
      "        [-0.4357, -0.8279, -0.5920],\n",
      "        [ 1.1929, -0.0802, -0.0894]])\n",
      "torch.return_types.topk(\n",
      "values=tensor([[ 0.8118,  0.3068],\n",
      "        [ 0.7558, -0.8581],\n",
      "        [-0.4357, -0.5920],\n",
      "        [ 1.1929, -0.0802]]),\n",
      "indices=tensor([[0, 1],\n",
      "        [0, 1],\n",
      "        [0, 2],\n",
      "        [0, 1]]))\n"
     ]
    }
   ],
   "source": [
    "# There's another function we'll use quite often in PyTorch which is .topk(). By default topk() is going \n",
    "# to find the top value per row, so the following says 'give me the top 2 values per row', and we\n",
    "# see we get values in the first tensor AND the indices of those values in the second tensor\n",
    "print(my_tensor_3)\n",
    "print(my_tensor_3.topk(2))\n",
    "# Notice that it's returned the top 2 values per ROW"
   ]
  },
  {
   "cell_type": "code",
   "execution_count": 78,
   "metadata": {},
   "outputs": [
    {
     "name": "stdout",
     "output_type": "stream",
     "text": [
      "tensor([[ 0.8118,  0.3068, -0.9181],\n",
      "        [ 0.7558, -0.8581, -1.0108],\n",
      "        [-0.4357, -0.8279, -0.5920],\n",
      "        [ 1.1929, -0.0802, -0.0894]])\n"
     ]
    },
    {
     "data": {
      "text/plain": [
       "torch.return_types.topk(\n",
       "values=tensor([[ 1.1929,  0.3068, -0.0894],\n",
       "        [ 0.8118, -0.0802, -0.5920]]),\n",
       "indices=tensor([[3, 0, 3],\n",
       "        [0, 3, 2]]))"
      ]
     },
     "execution_count": 78,
     "metadata": {},
     "output_type": "execute_result"
    }
   ],
   "source": [
    "# But often in our data we'll want to get the .topk() by COLUMN, in which case we can flip it thus\n",
    "print(my_tensor_3)\n",
    "my_tensor_3.topk(2, dim=0)\n",
    "# So we see that dim=1 (the default) means 'get me the top values per row', \n",
    "# while dim=0 means 'get me the top values per column'"
   ]
  },
  {
   "cell_type": "code",
   "execution_count": 79,
   "metadata": {},
   "outputs": [
    {
     "data": {
      "text/plain": [
       "torch.Size([1, 5])"
      ]
     },
     "execution_count": 79,
     "metadata": {},
     "output_type": "execute_result"
    }
   ],
   "source": [
    "# Always be aware when working with tensors what shape and type is going in, and what shape and type is going out\n",
    "# Use .shape() for debugging purposes, just like you would in NumPy\n",
    "my_tensor_1.shape"
   ]
  },
  {
   "cell_type": "code",
   "execution_count": 80,
   "metadata": {},
   "outputs": [
    {
     "data": {
      "text/plain": [
       "torch.float32"
      ]
     },
     "execution_count": 80,
     "metadata": {},
     "output_type": "execute_result"
    }
   ],
   "source": [
    "# The other thing to be aware of is the data types of your tensors - sometimes these will need to be\n",
    "# changed (read the docs here: https://pytorch.org/docs/stable/tensor_attributes.html)\n",
    "# Let's have a look at the type of our 4D tensor created earlier:\n",
    "my_4D_tensor.dtype\n",
    "# The thing I found confusing at first was terminology: this one is float32, but is also just known as type float\n",
    "# and similarly float64 is also known as double - but this is all in the documentation so no need to remain confused!"
   ]
  },
  {
   "cell_type": "code",
   "execution_count": 81,
   "metadata": {},
   "outputs": [
    {
     "data": {
      "text/plain": [
       "torch.float64"
      ]
     },
     "execution_count": 81,
     "metadata": {},
     "output_type": "execute_result"
    }
   ],
   "source": [
    "# If I want to cast my tensor to a new data type it's perfectly simple:\n",
    "my_4D_tensor = my_4D_tensor.type(torch.float64)\n",
    "my_4D_tensor.dtype"
   ]
  },
  {
   "cell_type": "code",
   "execution_count": 82,
   "metadata": {},
   "outputs": [
    {
     "data": {
      "text/plain": [
       "tensor([[-1.9041]])"
      ]
     },
     "execution_count": 82,
     "metadata": {},
     "output_type": "execute_result"
    }
   ],
   "source": [
    "# Let's do a quick dot product of 2 of our tensors to get a single 1 x 1 tensor as an answer\n",
    "new_1by1_tensor = my_tensor_1@my_tensor_2.view(5, 1)\n",
    "new_1by1_tensor"
   ]
  },
  {
   "cell_type": "code",
   "execution_count": 83,
   "metadata": {},
   "outputs": [
    {
     "data": {
      "text/plain": [
       "-1.904099464416504"
      ]
     },
     "execution_count": 83,
     "metadata": {},
     "output_type": "execute_result"
    }
   ],
   "source": [
    "# Sometimes you'll now just want to get that number out as a number instead of a tensor: .item() is the way\n",
    "new_1by1_tensor.item()\n",
    "# This value can now be passed to regular Python functions for further processing"
   ]
  },
  {
   "cell_type": "code",
   "execution_count": 84,
   "metadata": {},
   "outputs": [
    {
     "data": {
      "text/plain": [
       "torch.Size([1, 784])"
      ]
     },
     "execution_count": 84,
     "metadata": {},
     "output_type": "execute_result"
    }
   ],
   "source": [
    "# And remember our network accepts a vector as input, but sometimes we'll have a matrix, e.g. with images, \n",
    "# imagine this tensor is a 28 x 28 pixel image:\n",
    "my_image_tensor = torch.randn((28, 28))\n",
    "\n",
    "# We can flatten this with a simple change of shape\n",
    "my_image_tensor = my_image_tensor.view(1, -1)\n",
    "my_image_tensor.shape"
   ]
  },
  {
   "cell_type": "code",
   "execution_count": 85,
   "metadata": {},
   "outputs": [
    {
     "data": {
      "text/plain": [
       "torch.Size([64, 1, 28, 28])"
      ]
     },
     "execution_count": 85,
     "metadata": {},
     "output_type": "execute_result"
    }
   ],
   "source": [
    "# You need to just keep your wits about you when re-shaping! For example, if we were to import *batches* of \n",
    "# 64 black and white images at a time we might end up with a tensor like this one, where the first dimension \n",
    "# represents each of the 64 images, and thereafter we have the pixels associated with that image. Now we'll \n",
    "# want to flatten the pixel data, but not the image data - after all we want to keep each image separate!\n",
    "sample_images = torch.randn((64, 1, 28, 28))\n",
    "sample_images.shape"
   ]
  },
  {
   "cell_type": "code",
   "execution_count": 86,
   "metadata": {},
   "outputs": [
    {
     "data": {
      "text/plain": [
       "torch.Size([64, 784])"
      ]
     },
     "execution_count": 86,
     "metadata": {},
     "output_type": "execute_result"
    }
   ],
   "source": [
    "# This means that when we want to flatten this tensor to pass it into our network we do this:\n",
    "sample_images = sample_images.view(sample_images.shape[0], -1)\n",
    "sample_images.shape\n",
    "# So we are preserving the first dimension: we still have 64 individual images\n",
    "# but we have flattened the 28 x 28 pixels into vectors of length 784"
   ]
  },
  {
   "cell_type": "markdown",
   "metadata": {},
   "source": [
    "## Pytorch operations"
   ]
  },
  {
   "cell_type": "code",
   "execution_count": 87,
   "metadata": {},
   "outputs": [
    {
     "name": "stdout",
     "output_type": "stream",
     "text": [
      "tensor([[-0.2077, -1.1962, -2.3296,  0.1182, -0.6795]])\n",
      "tensor([[ 1.3532,  0.8760,  0.3802,  0.8343, -0.3119]])\n"
     ]
    }
   ],
   "source": [
    "# A reminder of what we have\n",
    "print(my_tensor_1)\n",
    "print(my_tensor_2)"
   ]
  },
  {
   "cell_type": "code",
   "execution_count": 88,
   "metadata": {},
   "outputs": [
    {
     "name": "stdout",
     "output_type": "stream",
     "text": [
      "tensor([[-0.2811, -1.0479, -0.8857,  0.0986,  0.2119]])\n"
     ]
    }
   ],
   "source": [
    "# Regular element-wise multiplication\n",
    "print(my_tensor_1 * my_tensor_2)"
   ]
  },
  {
   "cell_type": "code",
   "execution_count": 89,
   "metadata": {},
   "outputs": [
    {
     "name": "stdout",
     "output_type": "stream",
     "text": [
      "tensor([[ 1.1455, -0.3203, -1.9494,  0.9524, -0.9914]])\n"
     ]
    }
   ],
   "source": [
    "# Regular element-wise addition\n",
    "print(my_tensor_1 + my_tensor_2)"
   ]
  },
  {
   "cell_type": "code",
   "execution_count": 90,
   "metadata": {},
   "outputs": [
    {
     "name": "stdout",
     "output_type": "stream",
     "text": [
      "tensor([[ 0.8118,  0.3068, -0.9181],\n",
      "        [ 0.7558, -0.8581, -1.0108],\n",
      "        [-0.4357, -0.8279, -0.5920],\n",
      "        [ 1.1929, -0.0802, -0.0894]])\n",
      "tensor(-1.7450)\n"
     ]
    }
   ],
   "source": [
    "# Adding all the values in a tensor\n",
    "print(my_tensor_3)\n",
    "print(torch.sum(my_tensor_3))"
   ]
  },
  {
   "cell_type": "code",
   "execution_count": 91,
   "metadata": {},
   "outputs": [
    {
     "name": "stdout",
     "output_type": "stream",
     "text": [
      "tensor([ 2.3247, -1.4594, -2.6104])\n"
     ]
    }
   ],
   "source": [
    "# Notice how when we use dim=0 as a parameter what it does is it sums up all the column values\n",
    "# just like what we saw with .topk() earlier:\n",
    "print(torch.sum(my_tensor_3, dim=0))"
   ]
  },
  {
   "cell_type": "code",
   "execution_count": 92,
   "metadata": {},
   "outputs": [
    {
     "name": "stdout",
     "output_type": "stream",
     "text": [
      "tensor([ 0.2005, -1.1131, -1.8556,  1.0232])\n"
     ]
    }
   ],
   "source": [
    "# Notice how when we use dim=1 as a parameter what it does is it sums up all the row values\n",
    "print(torch.sum(my_tensor_3, dim=1))"
   ]
  },
  {
   "cell_type": "code",
   "execution_count": 93,
   "metadata": {},
   "outputs": [
    {
     "name": "stdout",
     "output_type": "stream",
     "text": [
      "tensor([[ 9.7923,  8.8038,  7.6704, 10.1182,  9.3205]])\n"
     ]
    }
   ],
   "source": [
    "# Regular adding something to every item in the tensor\n",
    "print(my_tensor_1 + 10)"
   ]
  },
  {
   "cell_type": "code",
   "execution_count": 94,
   "metadata": {},
   "outputs": [
    {
     "name": "stdout",
     "output_type": "stream",
     "text": [
      "tensor([[7.3767]])\n"
     ]
    }
   ],
   "source": [
    "# Regular dot product - remember the inner dimensions need to be the same (i.e. both 5)\n",
    "# and the result will be a tensor of the shape of the outer dimensions, in this case 1 x 1 \n",
    "print(my_tensor_1@my_tensor_1.view(5, 1))"
   ]
  },
  {
   "cell_type": "code",
   "execution_count": 95,
   "metadata": {},
   "outputs": [
    {
     "name": "stdout",
     "output_type": "stream",
     "text": [
      "tensor([[7.3767]])\n"
     ]
    }
   ],
   "source": [
    "# The following is equivalent to the dot product @ above\n",
    "print(torch.mm(my_tensor_1, my_tensor_1.view(5, 1)))"
   ]
  },
  {
   "cell_type": "code",
   "execution_count": 96,
   "metadata": {},
   "outputs": [
    {
     "name": "stdout",
     "output_type": "stream",
     "text": [
      "tensor([[7.3767]])\n"
     ]
    }
   ],
   "source": [
    "# And the following is also equivalent to the dot product @ above\n",
    "print(torch.matmul(my_tensor_1, my_tensor_1.view(5, 1)))"
   ]
  },
  {
   "cell_type": "code",
   "execution_count": 97,
   "metadata": {},
   "outputs": [
    {
     "name": "stdout",
     "output_type": "stream",
     "text": [
      "tensor([[-0.2077, -1.1962, -2.3296,  0.1182, -0.6795]])\n"
     ]
    },
    {
     "data": {
      "text/plain": [
       "tensor([[0.8124, 0.3023, 0.0973, 1.1254, 0.5069]])"
      ]
     },
     "execution_count": 97,
     "metadata": {},
     "output_type": "execute_result"
    }
   ],
   "source": [
    "# Get the exponent values of a tensor\n",
    "print(my_tensor_1)\n",
    "torch.exp(my_tensor_1)"
   ]
  },
  {
   "cell_type": "code",
   "execution_count": 98,
   "metadata": {},
   "outputs": [
    {
     "data": {
      "text/plain": [
       "tensor([[-0.2077, -1.1962, -2.3296,  0.1182, -0.6795]])"
      ]
     },
     "execution_count": 98,
     "metadata": {},
     "output_type": "execute_result"
    }
   ],
   "source": [
    "# Get the log values of a tensor - notice how we're back where we started, \n",
    "# Google this relationship if you need a reminder!\n",
    "torch.log(torch.exp(my_tensor_1))"
   ]
  },
  {
   "cell_type": "markdown",
   "metadata": {},
   "source": [
    "### A practical example: coding [softmax](https://en.wikipedia.org/wiki/Softmax_function)"
   ]
  },
  {
   "cell_type": "code",
   "execution_count": 99,
   "metadata": {},
   "outputs": [],
   "source": [
    "# All of the above are used in some fancy footwork when we were going to manually define softmax with a function\n",
    "def softmax(x):\n",
    "    return torch.exp(x) / torch.sum(torch.exp(x), dim = 1).view(-1,1)"
   ]
  },
  {
   "cell_type": "code",
   "execution_count": 100,
   "metadata": {},
   "outputs": [
    {
     "name": "stdout",
     "output_type": "stream",
     "text": [
      "tensor([[-0.8777,  0.2851, -0.4389,  2.8232, -0.5627],\n",
      "        [ 0.8622, -1.2912, -0.2677,  0.7676,  0.4953],\n",
      "        [-1.0641, -1.8382, -0.3919, -1.5695,  0.1419],\n",
      "        [-0.0973, -1.5966,  0.4856,  0.8416,  1.1836],\n",
      "        [-1.1976,  0.4660, -0.0243, -0.7778, -0.0898],\n",
      "        [-1.2676, -0.6465, -0.5454, -0.1206, -0.6875],\n",
      "        [ 1.9780,  0.7043,  0.5908,  0.5227,  0.9768],\n",
      "        [-0.3293, -0.1564,  1.2097, -0.1866, -0.7827],\n",
      "        [-0.7087, -0.3273,  0.3907, -0.4444, -0.6915],\n",
      "        [ 0.5122,  2.0538,  0.1797, -1.3488,  0.0805]])\n"
     ]
    }
   ],
   "source": [
    "# For softmax we'd have several rows of records, where each column has a score\n",
    "# and we want probability of the record belonging to that class - here I'm just \n",
    "# going to use random numbers to illustrate the mechanics of the thing\n",
    "my_test_tensor = torch.randn(10, 5)\n",
    "print(my_test_tensor)"
   ]
  },
  {
   "cell_type": "code",
   "execution_count": 101,
   "metadata": {},
   "outputs": [
    {
     "name": "stdout",
     "output_type": "stream",
     "text": [
      "tensor([[0.0210, 0.0672, 0.0326, 0.8504, 0.0288],\n",
      "        [0.3288, 0.0382, 0.1062, 0.2991, 0.2278],\n",
      "        [0.1358, 0.0626, 0.2660, 0.0819, 0.4536],\n",
      "        [0.1090, 0.0243, 0.1953, 0.2788, 0.3925],\n",
      "        [0.0711, 0.3754, 0.2299, 0.1082, 0.2153],\n",
      "        [0.1015, 0.1888, 0.2089, 0.3195, 0.1813],\n",
      "        [0.4694, 0.1313, 0.1172, 0.1095, 0.1725],\n",
      "        [0.1158, 0.1376, 0.5395, 0.1335, 0.0736],\n",
      "        [0.1284, 0.1881, 0.3856, 0.1673, 0.1307],\n",
      "        [0.1390, 0.6494, 0.0997, 0.0216, 0.0903]])\n"
     ]
    }
   ],
   "source": [
    "# Check this out\n",
    "print(softmax(my_test_tensor))"
   ]
  },
  {
   "cell_type": "code",
   "execution_count": 102,
   "metadata": {},
   "outputs": [
    {
     "data": {
      "text/plain": [
       "tensor([1.0000, 1.0000, 1.0000, 1.0000, 1.0000, 1.0000, 1.0000, 1.0000, 1.0000,\n",
       "        1.0000])"
      ]
     },
     "execution_count": 102,
     "metadata": {},
     "output_type": "execute_result"
    }
   ],
   "source": [
    "# Do these rows all add to 1 as expected? Yes! Now let's break that function down...\n",
    "torch.sum(softmax(my_test_tensor), dim=1)"
   ]
  },
  {
   "cell_type": "code",
   "execution_count": 103,
   "metadata": {},
   "outputs": [
    {
     "name": "stdout",
     "output_type": "stream",
     "text": [
      "tensor([[ 0.4157,  1.3299,  0.6447, 16.8300,  0.5697],\n",
      "        [ 2.3684,  0.2749,  0.7651,  2.1545,  1.6410],\n",
      "        [ 0.3450,  0.1591,  0.6758,  0.2081,  1.1525],\n",
      "        [ 0.9073,  0.2026,  1.6252,  2.3200,  3.2661],\n",
      "        [ 0.3019,  1.5936,  0.9760,  0.4594,  0.9141],\n",
      "        [ 0.2815,  0.5239,  0.5796,  0.8864,  0.5028],\n",
      "        [ 7.2282,  2.0224,  1.8055,  1.6866,  2.6558],\n",
      "        [ 0.7195,  0.8552,  3.3526,  0.8298,  0.4572],\n",
      "        [ 0.4923,  0.7209,  1.4780,  0.6412,  0.5008],\n",
      "        [ 1.6690,  7.7978,  1.1968,  0.2596,  1.0838]])\n",
      "torch.Size([10, 5])\n"
     ]
    }
   ],
   "source": [
    "# Step 1 - for our numerator and the inner part of our denominator we get 10 records x 5 classes back\n",
    "print(torch.exp(my_test_tensor))\n",
    "print(torch.exp(my_test_tensor).shape)"
   ]
  },
  {
   "cell_type": "code",
   "execution_count": 104,
   "metadata": {},
   "outputs": [
    {
     "name": "stdout",
     "output_type": "stream",
     "text": [
      "tensor([19.7901,  7.2040,  2.5405,  8.3211,  4.2451,  2.7742, 15.3984,  6.2142,\n",
      "         3.8332, 12.0070])\n",
      "torch.Size([10])\n"
     ]
    }
   ],
   "source": [
    "# Step 2 - for our denominator we're then going to sum up all these values and get a single value\n",
    "print(torch.sum(torch.exp(my_test_tensor), dim = 1))\n",
    "print(torch.sum(torch.exp(my_test_tensor), dim = 1).shape)"
   ]
  },
  {
   "cell_type": "code",
   "execution_count": 105,
   "metadata": {},
   "outputs": [
    {
     "ename": "RuntimeError",
     "evalue": "The size of tensor a (5) must match the size of tensor b (10) at non-singleton dimension 1",
     "output_type": "error",
     "traceback": [
      "\u001b[0;31m---------------------------------------------------------------------------\u001b[0m",
      "\u001b[0;31mRuntimeError\u001b[0m                              Traceback (most recent call last)",
      "\u001b[0;32m<ipython-input-105-fede49816ea6>\u001b[0m in \u001b[0;36m<module>\u001b[0;34m\u001b[0m\n\u001b[1;32m      1\u001b[0m \u001b[0;31m# Now: if we were just to do this it would throw an error because our shapes don't match up,\u001b[0m\u001b[0;34m\u001b[0m\u001b[0;34m\u001b[0m\u001b[0;34m\u001b[0m\u001b[0m\n\u001b[1;32m      2\u001b[0m \u001b[0;31m# our 10 x nothing tensor needs to be a 10 x 1 matrix\u001b[0m\u001b[0;34m\u001b[0m\u001b[0;34m\u001b[0m\u001b[0;34m\u001b[0m\u001b[0m\n\u001b[0;32m----> 3\u001b[0;31m \u001b[0mtorch\u001b[0m\u001b[0;34m.\u001b[0m\u001b[0mexp\u001b[0m\u001b[0;34m(\u001b[0m\u001b[0mmy_test_tensor\u001b[0m\u001b[0;34m)\u001b[0m \u001b[0;34m/\u001b[0m \u001b[0mtorch\u001b[0m\u001b[0;34m.\u001b[0m\u001b[0msum\u001b[0m\u001b[0;34m(\u001b[0m\u001b[0mtorch\u001b[0m\u001b[0;34m.\u001b[0m\u001b[0mexp\u001b[0m\u001b[0;34m(\u001b[0m\u001b[0mmy_test_tensor\u001b[0m\u001b[0;34m)\u001b[0m\u001b[0;34m,\u001b[0m \u001b[0mdim\u001b[0m \u001b[0;34m=\u001b[0m \u001b[0;36m1\u001b[0m\u001b[0;34m)\u001b[0m\u001b[0;34m\u001b[0m\u001b[0;34m\u001b[0m\u001b[0m\n\u001b[0m",
      "\u001b[0;31mRuntimeError\u001b[0m: The size of tensor a (5) must match the size of tensor b (10) at non-singleton dimension 1"
     ]
    }
   ],
   "source": [
    "# Now: if we were just to do this it would throw an error because our shapes don't match up, \n",
    "# our 10 x nothing tensor needs to be a 10 x 1 matrix\n",
    "torch.exp(my_test_tensor) / torch.sum(torch.exp(my_test_tensor), dim = 1)"
   ]
  },
  {
   "cell_type": "code",
   "execution_count": 106,
   "metadata": {},
   "outputs": [
    {
     "data": {
      "text/plain": [
       "tensor([[19.7901],\n",
       "        [ 7.2040],\n",
       "        [ 2.5405],\n",
       "        [ 8.3211],\n",
       "        [ 4.2451],\n",
       "        [ 2.7742],\n",
       "        [15.3984],\n",
       "        [ 6.2142],\n",
       "        [ 3.8332],\n",
       "        [12.0070]])"
      ]
     },
     "execution_count": 106,
     "metadata": {},
     "output_type": "execute_result"
    }
   ],
   "source": [
    "# Check how this fixes it\n",
    "torch.sum(torch.exp(my_test_tensor), dim = 1).view(-1,1)"
   ]
  },
  {
   "cell_type": "code",
   "execution_count": 107,
   "metadata": {},
   "outputs": [
    {
     "data": {
      "text/plain": [
       "tensor([[0.0210, 0.0672, 0.0326, 0.8504, 0.0288],\n",
       "        [0.3288, 0.0382, 0.1062, 0.2991, 0.2278],\n",
       "        [0.1358, 0.0626, 0.2660, 0.0819, 0.4536],\n",
       "        [0.1090, 0.0243, 0.1953, 0.2788, 0.3925],\n",
       "        [0.0711, 0.3754, 0.2299, 0.1082, 0.2153],\n",
       "        [0.1015, 0.1888, 0.2089, 0.3195, 0.1813],\n",
       "        [0.4694, 0.1313, 0.1172, 0.1095, 0.1725],\n",
       "        [0.1158, 0.1376, 0.5395, 0.1335, 0.0736],\n",
       "        [0.1284, 0.1881, 0.3856, 0.1673, 0.1307],\n",
       "        [0.1390, 0.6494, 0.0997, 0.0216, 0.0903]])"
      ]
     },
     "execution_count": 107,
     "metadata": {},
     "output_type": "execute_result"
    }
   ],
   "source": [
    "# And hence our final function\n",
    "torch.exp(my_test_tensor) / torch.sum(torch.exp(my_test_tensor), dim = 1).view(-1,1)"
   ]
  },
  {
   "cell_type": "markdown",
   "metadata": {},
   "source": [
    "## PyTorch to NumPy and back again\n",
    "You'll often need to transfer your data from one world to the other, and back again. For example, you may import data and do a whole lot of pre-processing in NumPy, and then want to get your data into PyTorch structures to actually run your model. Once you have your results, you may way to get them to NumPy or even Pandas for further analysis. Knowing how to translate is pretty fundamental!"
   ]
  },
  {
   "cell_type": "code",
   "execution_count": 108,
   "metadata": {},
   "outputs": [
    {
     "data": {
      "text/plain": [
       "array([[0.46911657, 0.74893065, 0.79124169],\n",
       "       [0.35685369, 0.32958451, 0.32630023],\n",
       "       [0.33777507, 0.25061065, 0.07958428],\n",
       "       [0.33802701, 0.65186334, 0.50257681]])"
      ]
     },
     "execution_count": 108,
     "metadata": {},
     "output_type": "execute_result"
    }
   ],
   "source": [
    "# Let's create a numpy array\n",
    "a = np.random.rand(4,3)\n",
    "a"
   ]
  },
  {
   "cell_type": "code",
   "execution_count": 109,
   "metadata": {},
   "outputs": [
    {
     "data": {
      "text/plain": [
       "tensor([[0.4691, 0.7489, 0.7912],\n",
       "        [0.3569, 0.3296, 0.3263],\n",
       "        [0.3378, 0.2506, 0.0796],\n",
       "        [0.3380, 0.6519, 0.5026]], dtype=torch.float64)"
      ]
     },
     "execution_count": 109,
     "metadata": {},
     "output_type": "execute_result"
    }
   ],
   "source": [
    "# Here's how you create a pytorch tensor from that\n",
    "b = torch.from_numpy(a)\n",
    "b"
   ]
  },
  {
   "cell_type": "code",
   "execution_count": 110,
   "metadata": {},
   "outputs": [
    {
     "data": {
      "text/plain": [
       "array([[0.46911657, 0.74893065, 0.79124169],\n",
       "       [0.35685369, 0.32958451, 0.32630023],\n",
       "       [0.33777507, 0.25061065, 0.07958428],\n",
       "       [0.33802701, 0.65186334, 0.50257681]])"
      ]
     },
     "execution_count": 110,
     "metadata": {},
     "output_type": "execute_result"
    }
   ],
   "source": [
    "# And how you go from torch back to numpy, which you may want to do for visualization purposes, for example\n",
    "b.numpy()"
   ]
  },
  {
   "cell_type": "code",
   "execution_count": 111,
   "metadata": {},
   "outputs": [
    {
     "name": "stdout",
     "output_type": "stream",
     "text": [
      "tensor([[0.9382, 1.4979, 1.5825],\n",
      "        [0.7137, 0.6592, 0.6526],\n",
      "        [0.6756, 0.5012, 0.1592],\n",
      "        [0.6761, 1.3037, 1.0052]], dtype=torch.float64)\n",
      "[[0.93823315 1.49786129 1.58248339]\n",
      " [0.71370739 0.65916902 0.65260045]\n",
      " [0.67555014 0.5012213  0.15916857]\n",
      " [0.67605403 1.30372668 1.00515362]]\n"
     ]
    }
   ],
   "source": [
    "# ***The memory is shared between the Numpy array and Torch tensor***, so if you change the values in-place \n",
    "# of one object, the other will change as well - check this out:\n",
    "\n",
    "# Multiply PyTorch Tensor by 2, in place\n",
    "b.mul_(2)\n",
    "\n",
    "print(b)\n",
    "print(a)"
   ]
  },
  {
   "cell_type": "markdown",
   "metadata": {},
   "source": [
    "## One more thing!"
   ]
  },
  {
   "cell_type": "code",
   "execution_count": 112,
   "metadata": {},
   "outputs": [
    {
     "data": {
      "text/plain": [
       "<torch._C.Generator at 0x1254dd7f0>"
      ]
     },
     "execution_count": 112,
     "metadata": {},
     "output_type": "execute_result"
    }
   ],
   "source": [
    "# How to set the random seed so things are predictable\n",
    "torch.manual_seed(7)"
   ]
  }
 ],
 "metadata": {
  "kernelspec": {
   "display_name": "Python 3",
   "language": "python",
   "name": "python3"
  },
  "language_info": {
   "codemirror_mode": {
    "name": "ipython",
    "version": 3
   },
   "file_extension": ".py",
   "mimetype": "text/x-python",
   "name": "python",
   "nbconvert_exporter": "python",
   "pygments_lexer": "ipython3",
   "version": "3.7.3"
  }
 },
 "nbformat": 4,
 "nbformat_minor": 2
}
